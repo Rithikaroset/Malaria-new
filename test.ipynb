{
 "cells": [
  {
   "cell_type": "code",
   "execution_count": 1,
   "metadata": {},
   "outputs": [],
   "source": [
    "import joblib\n",
    "import numpy as np"
   ]
  },
  {
   "cell_type": "code",
   "execution_count": 2,
   "metadata": {},
   "outputs": [],
   "source": [
    "model_DT = joblib.load('models/model_DT1.pkl')\n",
    "model_GB = joblib.load('models/model_GB1.pkl')\n",
    "model_KNN = joblib.load('models/model_KNN1.pkl')\n",
    "model_LR = joblib.load('models/model_LR1.pkl')\n",
    "model_RFC = joblib.load('models/model_RF1.pkl')\n",
    "model_SVM = joblib.load('models/model_SVM1.pkl')\n"
   ]
  },
  {
   "cell_type": "code",
   "execution_count": 3,
   "metadata": {},
   "outputs": [],
   "source": [
    "# Target 0 example\n",
    "input_arr = np.array([41, 1, 0, 1, 96.4, 110, 60, 92, 0]).reshape(1, -1)\n",
    "\n",
    "# Target 1 example\n",
    "#input_arr = np.array([32, 0, 1, 1, 100.5, 130, 90, 98, 1]).reshape(1, -1)"
   ]
  },
  {
   "cell_type": "code",
   "execution_count": 4,
   "metadata": {},
   "outputs": [],
   "source": [
    "def predict(input, model):\n",
    "    return model.predict(input)\n",
    "\n",
    "def predict_proba(input, model):\n",
    "    return model.predict_proba(input)\n"
   ]
  },
  {
   "cell_type": "code",
   "execution_count": 5,
   "metadata": {},
   "outputs": [
    {
     "name": "stdout",
     "output_type": "stream",
     "text": [
      "[0.]\n",
      "[[1. 0.]]\n",
      "[0.]\n",
      "[[1.00000000e+000 3.08332761e-140]]\n",
      "[0.]\n",
      "[[0.8 0.2]]\n",
      "[0.]\n",
      "[[1.00000000e+000 3.08332761e-140]]\n",
      "[0.]\n",
      "[[0.91 0.09]]\n"
     ]
    }
   ],
   "source": [
    "res_DT = predict(input_arr, model_DT)\n",
    "print(res_DT)\n",
    "\n",
    "res_DT_proba = predict_proba(input_arr, model_DT)\n",
    "print(res_DT_proba)\n",
    "\n",
    "\n",
    "\n",
    "res_GB = predict(input_arr, model_GB)\n",
    "print(res_GB)\n",
    "\n",
    "res_GB_proba = predict_proba(input_arr, model_GB)\n",
    "print(res_GB_proba)\n",
    "\n",
    "\n",
    "\n",
    "res_KNN = predict(input_arr, model_KNN)\n",
    "print(res_KNN)\n",
    "\n",
    "res_KNN_proba = predict_proba(input_arr, model_KNN)\n",
    "print(res_KNN_proba)\n",
    "\n",
    "\n",
    "\n",
    "res_LR = predict(input_arr, model_LR)\n",
    "print(res_LR)\n",
    "\n",
    "res_LR_proba = predict_proba(input_arr, model_LR)\n",
    "print(res_LR_proba)\n",
    "\n",
    "\n",
    "\n",
    "res_RFC = predict(input_arr, model_RFC)\n",
    "print(res_RFC)\n",
    "\n",
    "res_RFC_proba = predict_proba(input_arr, model_RFC)\n",
    "print(res_RFC_proba)\n",
    "\n"
   ]
  },
  {
   "cell_type": "code",
   "execution_count": 6,
   "metadata": {},
   "outputs": [
    {
     "name": "stdout",
     "output_type": "stream",
     "text": [
      "[array([1., 0.]), array([1.00000000e+000, 3.08332761e-140]), array([0.8, 0.2]), array([1.00000000e+000, 3.08332761e-140]), array([0.91, 0.09])]\n",
      "[0.942 0.058]\n",
      "Final Prediction - Class 0\n"
     ]
    }
   ],
   "source": [
    "ensemble_result = [res_DT_proba[0], res_GB_proba[0], res_KNN_proba[0], res_LR_proba[0], res_RFC_proba[0]]\n",
    "print(ensemble_result)\n",
    "\n",
    "output = np.mean(ensemble_result, axis = 0)\n",
    "print(output)\n",
    "print('Final Prediction - Class {}'.format(output.argmax()))"
   ]
  },
  {
   "cell_type": "code",
   "execution_count": null,
   "metadata": {},
   "outputs": [],
   "source": []
  }
 ],
 "metadata": {
  "kernelspec": {
   "display_name": "Python 3",
   "language": "python",
   "name": "python3"
  },
  "language_info": {
   "codemirror_mode": {
    "name": "ipython",
    "version": 3
   },
   "file_extension": ".py",
   "mimetype": "text/x-python",
   "name": "python",
   "nbconvert_exporter": "python",
   "pygments_lexer": "ipython3",
   "version": "3.7.3"
  }
 },
 "nbformat": 4,
 "nbformat_minor": 2
}
