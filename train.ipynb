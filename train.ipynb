{
 "cells": [
  {
   "cell_type": "code",
   "execution_count": 1,
   "metadata": {},
   "outputs": [],
   "source": [
    "import time\n",
    "import numpy as np\n",
    "import pandas as pd\n",
    "from sklearn import metrics\n",
    "import joblib\n",
    "import warnings\n",
    "warnings.filterwarnings('ignore')"
   ]
  },
  {
   "cell_type": "code",
   "execution_count": 2,
   "metadata": {},
   "outputs": [
    {
     "name": "stdout",
     "output_type": "stream",
     "text": [
      "     Sl no  Age (in years)  Sex  \\\n",
      "0      NaN             NaN  NaN   \n",
      "1      1.0            41.0  1.0   \n",
      "2      2.0            32.0  0.0   \n",
      "3      3.0            50.0  0.0   \n",
      "4      4.0            43.0  1.0   \n",
      "..     ...             ...  ...   \n",
      "306  306.0            57.0  0.0   \n",
      "307  307.0            23.0  0.0   \n",
      "308  308.0            51.0  0.0   \n",
      "309  309.0            32.0  1.0   \n",
      "310  310.0            30.0  0.0   \n",
      "\n",
      "     Clinical symptoms 1 - Severe fever with chills and sweating,  \\\n",
      "0                                                  NaN              \n",
      "1                                                  0.0              \n",
      "2                                                  1.0              \n",
      "3                                                  1.0              \n",
      "4                                                  0.0              \n",
      "..                                                 ...              \n",
      "306                                                1.0              \n",
      "307                                                1.0              \n",
      "308                                                1.0              \n",
      "309                                                0.0              \n",
      "310                                                0.0              \n",
      "\n",
      "    Clinical Symptoms 2 - Severe fatigue with severe back pain  Temperature  \\\n",
      "0    / respiratory symptoms like dry cough/ GI symp...               in ◦F    \n",
      "1                                                    1                 96.4   \n",
      "2                                                    1                100.5   \n",
      "3                                                    1                  101   \n",
      "4                                                    0                 97.6   \n",
      "..                                                 ...                  ...   \n",
      "306                                                  1                  104   \n",
      "307                                                  1                  100   \n",
      "308                                                  1                100.6   \n",
      "309                                                  0                 97.2   \n",
      "310                                                  1                 95.8   \n",
      "\n",
      "     Diastolic Blood pressure in MM/Hg  Diastolic Blood pressure   \\\n",
      "0                                MM/Hg                      MM/Hg   \n",
      "1                                  110                         60   \n",
      "2                                  130                         90   \n",
      "3                                  140                         90   \n",
      "4                                  120                         70   \n",
      "..                                 ...                        ...   \n",
      "306                                130                         90   \n",
      "307                                150                         90   \n",
      "308                                140                         80   \n",
      "309                                100                         50   \n",
      "310                                100                         70   \n",
      "\n",
      "      Heart rate                                  Travel history to   \\\n",
      "0    in beats/min  malaria endemic area  (like mangalore, parts o...   \n",
      "1              92                                                  0   \n",
      "2              98                                                  1   \n",
      "3             102                                                  1   \n",
      "4              98                                                  0   \n",
      "..            ...                                                ...   \n",
      "306            96                                                  1   \n",
      "307           102                                                  1   \n",
      "308           106                                                  1   \n",
      "309            82                                                  0   \n",
      "310            68                                                  0   \n",
      "\n",
      "                              Ultrasound Abdomen scan   \\\n",
      "0    Spleenomegaly present =1, Spleenomegaly absent...   \n",
      "1                                                    0   \n",
      "2                                                    1   \n",
      "3                                                    1   \n",
      "4                                                    0   \n",
      "..                                                 ...   \n",
      "306                                                  1   \n",
      "307                                                  1   \n",
      "308                                                  1   \n",
      "309                                                  0   \n",
      "310                                                  0   \n",
      "\n",
      "    Peripheral blood Smear (both thick and thin) and Microscopy  Target  \n",
      "0           Malarial parasites present = 1, absent = 0              NaN  \n",
      "1                                                    0              0.0  \n",
      "2                                                    1              0.0  \n",
      "3                                                    1              1.0  \n",
      "4                                                    0              1.0  \n",
      "..                                                 ...              ...  \n",
      "306                                                  1              1.0  \n",
      "307                                                  1              1.0  \n",
      "308                                                  1              1.0  \n",
      "309                                                  0              0.0  \n",
      "310                                                  0              1.0  \n",
      "\n",
      "[311 rows x 13 columns]\n"
     ]
    }
   ],
   "source": [
    "data = pd.read_excel (r'malaria.xlsx')\n",
    "print (data)\n",
    "data=data.loc[2:,:]"
   ]
  },
  {
   "cell_type": "code",
   "execution_count": 3,
   "metadata": {},
   "outputs": [],
   "source": [
    "positive = data.loc[data['Target']==1]\n",
    "negative = data.loc[data['Target']==0]\n",
    "\n",
    "X = data.iloc[:,0:9]\n",
    "Y = data.iloc[:,-1]"
   ]
  },
  {
   "cell_type": "code",
   "execution_count": 4,
   "metadata": {},
   "outputs": [],
   "source": [
    "from sklearn.model_selection import train_test_split\n",
    "xtrain, xtest, ytrain, ytest = train_test_split(X, Y, test_size = 25)"
   ]
  },
  {
   "cell_type": "code",
   "execution_count": 35,
   "metadata": {},
   "outputs": [
    {
     "name": "stdout",
     "output_type": "stream",
     "text": [
      "1. Using Random Forest Method\n",
      "Accuracy - 100.0\n",
      "Recall - 1.0\n",
      "Precision Score - 1.0\n",
      "Confusion matrix\n",
      "[[10  0]\n",
      " [ 0 15]]\n",
      "\n",
      "\n"
     ]
    }
   ],
   "source": [
    "from sklearn.ensemble import RandomForestClassifier\n",
    "RFC = RandomForestClassifier()\n",
    "RFC.fit(xtrain, ytrain)\n",
    "pred_rfc = RFC.predict(xtest)\n",
    "acc_rfc = metrics.accuracy_score(ytest, pred_rfc)*100\n",
    "joblib.dump(RFC, 'models/model_RF1.pkl')\n",
    "\n",
    "\n",
    "print('1. Using Random Forest Method')\n",
    "print('Accuracy - {}'.format(acc_rfc))\n",
    "print('Recall - {}'.format(metrics.recall_score(ytest, pred_rfc)))\n",
    "print('Precision Score - {}'.format(metrics.precision_score(ytest, pred_rfc)))\n",
    "print('Confusion matrix')\n",
    "print(metrics.confusion_matrix(ytest, pred_rfc))\n",
    "print('\\n')\n",
    "time.sleep(1)"
   ]
  },
  {
   "cell_type": "code",
   "execution_count": 36,
   "metadata": {},
   "outputs": [
    {
     "name": "stdout",
     "output_type": "stream",
     "text": [
      "2. Using Gradient Boosting Method\n",
      "Accuracy - 100.0\n",
      "Recall - 1.0\n",
      "Precision Score - 1.0\n",
      "Confusion matrix\n",
      "[[10  0]\n",
      " [ 0 15]]\n",
      "\n",
      "\n"
     ]
    }
   ],
   "source": [
    "from sklearn.ensemble import GradientBoostingClassifier\n",
    "GB = GradientBoostingClassifier()\n",
    "GB.fit(xtrain, ytrain)\n",
    "pred_gb = GB.predict(xtest)\n",
    "acc_gb = metrics.accuracy_score(ytest, pred_gb)*100\n",
    "joblib.dump(GB, 'models/model_GB1.pkl')\n",
    "\n",
    "\n",
    "print('2. Using Gradient Boosting Method')\n",
    "print('Accuracy - {}'.format(acc_gb))\n",
    "print('Recall - {}'.format(metrics.recall_score(ytest, pred_gb)))\n",
    "print('Precision Score - {}'.format(metrics.precision_score(ytest, pred_gb)))\n",
    "print('Confusion matrix')\n",
    "print(metrics.confusion_matrix(ytest, pred_gb))\n",
    "print('\\n')"
   ]
  },
  {
   "cell_type": "code",
   "execution_count": 42,
   "metadata": {},
   "outputs": [
    {
     "name": "stdout",
     "output_type": "stream",
     "text": [
      "3. Using Logistic Regression Method\n",
      "Accuracy - 96.0\n",
      "Recall - 1.0\n",
      "Precision Score - 0.9375\n",
      "Confusion matrix\n",
      "[[ 9  1]\n",
      " [ 0 15]]\n",
      "\n",
      "\n"
     ]
    }
   ],
   "source": [
    "from sklearn.linear_model import LogisticRegression\n",
    "LR = LogisticRegression()\n",
    "LR.fit(xtrain, ytrain)\n",
    "pred_lr = LR.predict(xtest)\n",
    "acc_lr = metrics.accuracy_score(ytest, pred_lr)*100\n",
    "joblib.dump(LR, 'models/model_LR1.pkl')\n",
    "\n",
    "print('3. Using Logistic Regression Method')\n",
    "print('Accuracy - {}'.format(acc_lr))\n",
    "print('Recall - {}'.format(metrics.recall_score(ytest, pred_lr)))\n",
    "print('Precision Score - {}'.format(metrics.precision_score(ytest, pred_lr)))\n",
    "print('Confusion matrix')\n",
    "print(metrics.confusion_matrix(ytest, pred_lr))\n",
    "print('\\n')"
   ]
  },
  {
   "cell_type": "code",
   "execution_count": 38,
   "metadata": {},
   "outputs": [
    {
     "name": "stdout",
     "output_type": "stream",
     "text": [
      "4. Using SVM Method\n",
      "Accuracy - 100.0\n",
      "Recall - 1.0\n",
      "Precision Score - 1.0\n",
      "Confusion matrix\n",
      "[[10  0]\n",
      " [ 0 15]]\n",
      "\n",
      "\n"
     ]
    }
   ],
   "source": [
    "from sklearn import svm\n",
    "SVM = svm.LinearSVC(loss='hinge')\n",
    "SVM.fit(xtrain, ytrain)\n",
    "pred_svm = SVM.predict(xtest)\n",
    "acc_svm = metrics.accuracy_score(ytest, pred_svm)*100\n",
    "joblib.dump(SVM, 'models/model_SVM1.pkl')\n",
    "\n",
    "print('4. Using SVM Method')\n",
    "print('Accuracy - {}'.format(acc_svm))\n",
    "print('Recall - {}'.format(metrics.recall_score(ytest, pred_svm)))\n",
    "print('Precision Score - {}'.format(metrics.precision_score(ytest, pred_svm)))\n",
    "print('Confusion matrix')\n",
    "print(metrics.confusion_matrix(ytest, pred_svm))\n",
    "print('\\n')"
   ]
  },
  {
   "cell_type": "code",
   "execution_count": 39,
   "metadata": {},
   "outputs": [
    {
     "name": "stdout",
     "output_type": "stream",
     "text": [
      "5. Using KNN Method\n",
      "Accuracy - 84.0\n",
      "Recall - 0.8666666666666667\n",
      "Precision Score - 0.8666666666666667\n",
      "Confusion matrix\n",
      "[[ 8  2]\n",
      " [ 2 13]]\n",
      "\n",
      "\n"
     ]
    }
   ],
   "source": [
    "from sklearn.neighbors import KNeighborsClassifier\n",
    "KNN = KNeighborsClassifier(n_neighbors=10)\n",
    "KNN.fit(xtrain, ytrain)\n",
    "pred_knn = KNN.predict(xtest)\n",
    "acc_knn = metrics.accuracy_score(ytest, pred_knn)*100\n",
    "joblib.dump(KNN,'models/model_KNN1.pkl')\n",
    "\n",
    "\n",
    "print('5. Using KNN Method')\n",
    "print('Accuracy - {}'.format(acc_knn))\n",
    "print('Recall - {}'.format(metrics.recall_score(ytest, pred_knn)))\n",
    "print('Precision Score - {}'.format(metrics.precision_score(ytest, pred_knn)))\n",
    "print('Confusion matrix')\n",
    "print(metrics.confusion_matrix(ytest, pred_knn))\n",
    "print('\\n')"
   ]
  },
  {
   "cell_type": "code",
   "execution_count": 40,
   "metadata": {},
   "outputs": [
    {
     "name": "stdout",
     "output_type": "stream",
     "text": [
      "6. Using Decision Tree Method\n",
      "Accuracy - 100.0\n",
      "Recall - 1.0\n",
      "Precision Score - 1.0\n",
      "Confusion matrix\n",
      "[[10  0]\n",
      " [ 0 15]]\n",
      "\n",
      "\n"
     ]
    }
   ],
   "source": [
    "from sklearn.tree import DecisionTreeClassifier\n",
    "DT = DecisionTreeClassifier(max_depth=10, random_state=101, max_features=None, min_samples_leaf=10)\n",
    "DT.fit(xtrain, ytrain)\n",
    "pred_DT = DT.predict(xtest)\n",
    "acc_DT = metrics.accuracy_score(ytest, pred_DT)*100\n",
    "joblib.dump(DT,'models/model_DT1.pkl')\n",
    "\n",
    "\n",
    "print('6. Using Decision Tree Method')\n",
    "print('Accuracy - {}'.format(acc_DT))\n",
    "print('Recall - {}'.format(metrics.recall_score(ytest, pred_DT)))\n",
    "print('Precision Score - {}'.format(metrics.precision_score(ytest, pred_DT)))\n",
    "print('Confusion matrix')\n",
    "print(metrics.confusion_matrix(ytest, pred_DT))\n",
    "print('\\n')"
   ]
  },
  {
   "cell_type": "code",
   "execution_count": 29,
   "metadata": {},
   "outputs": [
    {
     "name": "stdout",
     "output_type": "stream",
     "text": [
      "8. Using MLP Method\n",
      "Accuracy - 80.0\n",
      "Recall - 1.0\n",
      "Precision Score - 0.75\n",
      "Confusion matrix\n",
      "[[ 5  5]\n",
      " [ 0 15]]\n",
      "\n",
      "\n"
     ]
    }
   ],
   "source": [
    "from sklearn.neural_network import MLPClassifier\n",
    "MLP = MLPClassifier(hidden_layer_sizes=(20,4,1))\n",
    "MLP.fit(xtrain, ytrain)\n",
    "pred_MLP = MLP.predict(xtest)\n",
    "acc_MLP = metrics.accuracy_score(ytest, pred_MLP)*100\n",
    "joblib.dump(DT,'models/model_MLP1.pkl')\n",
    "\n",
    "print('8. Using MLP Method')\n",
    "print('Accuracy - {}'.format(acc_MLP))\n",
    "print('Recall - {}'.format(metrics.recall_score(ytest, pred_MLP)))\n",
    "print('Precision Score - {}'.format(metrics.precision_score(ytest, pred_MLP)))\n",
    "print('Confusion matrix')\n",
    "print(metrics.confusion_matrix(ytest, pred_MLP))\n",
    "print('\\n')"
   ]
  },
  {
   "cell_type": "code",
   "execution_count": 43,
   "metadata": {},
   "outputs": [
    {
     "data": {
      "image/png": "[encoded data removed]",
      "text/plain": [
       "<Figure size 432x288 with 1 Axes>"
      ]
     },
     "metadata": {
      "needs_background": "light"
     },
     "output_type": "display_data"
    }
   ],
   "source": [
    "import matplotlib.pyplot as plt\n",
    "\n",
    "#Defining labels and data\n",
    "height = [acc_rfc, acc_gb, acc_lr, acc_svm , acc_knn, acc_DT, acc_MLP]\n",
    "bars = ('RF', 'GB', 'LR', 'SVM', 'KNN', 'DT', 'MLP')\n",
    "y_pos = np.arange(len(bars))\n",
    " \n",
    "# Create bars and choose color\n",
    "plt.bar(y_pos, height, color = (1.00, 0.65, 0.00, 1.0))\n",
    " \n",
    "# Add Title and Axis names\n",
    "\n",
    "plt.title('Comparision Study')\n",
    "plt.xlabel('Algorithms')\n",
    "plt.ylabel('Accuracy')\n",
    " \n",
    "# Limits for the Y axis\n",
    "plt.ylim(0,100) \n",
    "# Create names\n",
    "plt.xticks(y_pos, bars) \n",
    "#Save the graphic\n",
    "plt.savefig('Comparison_Study')\n",
    "# Show graphic\n",
    "plt.show()"
   ]
  },
  {
   "cell_type": "code",
   "execution_count": null,
   "metadata": {},
   "outputs": [],
   "source": []
  }
 ],
 "metadata": {
  "kernelspec": {
   "display_name": "Python 3",
   "language": "python",
   "name": "python3"
  },
  "language_info": {
   "codemirror_mode": {
    "name": "ipython",
    "version": 3
   },
   "file_extension": ".py",
   "mimetype": "text/x-python",
   "name": "python",
   "nbconvert_exporter": "python",
   "pygments_lexer": "ipython3",
   "version": "3.7.3"
  }
 },
 "nbformat": 4,
 "nbformat_minor": 2
}
